{
 "cells": [
  {
   "cell_type": "markdown",
   "metadata": {},
   "source": [
    "# Vector Efficiency: Why Zeros Are Costing You Memory\n",
    "\n",
    "When we want to create something like a search engine, we need to convert both our query (the thing we're searching for) and our corpus (the documents we're searching over) into something computers can easily understand. The best thing for this a vector. A vector is simply a list of numbers that represent the information. That being said, there are considerations to be made when dealing with vectors. What sort of memory budget do we have? What sort of speed requirements? \n",
    "\n",
    "Two approaches are **sparse** vectors and **dense** vectors. Sparse vectors are vectors that contain mostly zeros. Dense vectors are vectors that contain mostly non-zeros.\n",
    "\n",
    "Think about your Netflix watch history. You've probably watched a small fraction of all available movies. If Netflix stored every possible movie as a giant list, marking unseen movies as '0' and watched ones as '1,' that would be a sparse vector—mostly empty. But if Netflix stored a list of your genre preferences (Action: 0.7, Comedy: 0.5, Sci-Fi: 0.8), that would be a dense vector—every value carries meaning."
   ]
  },
  {
   "cell_type": "markdown",
   "metadata": {},
   "source": [
    "## Sparse vs. Dense Vectors\n",
    "\n",
    "To wrap our head around the difference between sparse and dense vectors, we'll use `numpy` to create both types of vector. So we can (somewhat) accurately get an idea of how much memory is occupied, we'll use the `np.int8` datatype. We'll create vectors of size 1024 to illustrate the difference between the two."
   ]
  },
  {
   "cell_type": "markdown",
   "metadata": {},
   "source": [
    "For reproducability, we'll use [numpy's `default_rng`](https://numpy.org/doc/2.1/reference/random/generator.html#numpy.random.default_rng) generator for all of our random data."
   ]
  },
  {
   "cell_type": "code",
   "execution_count": null,
   "metadata": {},
   "outputs": [],
   "source": [
    "import numpy as np\n",
    "from rich import print\n",
    "\n",
    "random_number_generator = np.random.default_rng(seed=42)"
   ]
  },
  {
   "cell_type": "code",
   "execution_count": null,
   "metadata": {},
   "outputs": [],
   "source": [
    "vector_length = 1024"
   ]
  },
  {
   "cell_type": "markdown",
   "metadata": {},
   "source": [
    "To create our sparse vector, we initialize with all zeros, randomly select 1% of the length of our vector as indices, and fill those indices with values between 1 and 5."
   ]
  },
  {
   "cell_type": "code",
   "execution_count": null,
   "metadata": {},
   "outputs": [
    {
     "data": {
      "text/html": [
       "<pre style=\"white-space:pre;overflow-x:auto;line-height:normal;font-family:Menlo,'DejaVu Sans Mono',consolas,'Courier New',monospace\"><span style=\"font-weight: bold\">[</span><span style=\"color: #008080; text-decoration-color: #008080; font-weight: bold\">0</span> <span style=\"color: #008080; text-decoration-color: #008080; font-weight: bold\">0</span> <span style=\"color: #008080; text-decoration-color: #008080; font-weight: bold\">0</span> <span style=\"color: #808000; text-decoration-color: #808000\">...</span> <span style=\"color: #008080; text-decoration-color: #008080; font-weight: bold\">0</span> <span style=\"color: #008080; text-decoration-color: #008080; font-weight: bold\">0</span> <span style=\"color: #008080; text-decoration-color: #008080; font-weight: bold\">0</span><span style=\"font-weight: bold\">]</span>\n",
       "</pre>\n"
      ],
      "text/plain": [
       "\u001b[1m[\u001b[0m\u001b[1;36m0\u001b[0m \u001b[1;36m0\u001b[0m \u001b[1;36m0\u001b[0m \u001b[33m...\u001b[0m \u001b[1;36m0\u001b[0m \u001b[1;36m0\u001b[0m \u001b[1;36m0\u001b[0m\u001b[1m]\u001b[0m\n"
      ]
     },
     "metadata": {},
     "output_type": "display_data"
    }
   ],
   "source": [
    "sparse_vector = np.zeros(vector_length, dtype=np.int8)\n",
    "indices_to_fill = random_number_generator.choice(vector_length,size=int(vector_length*0.01), replace=False)\n",
    "sparse_vector[indices_to_fill] = random_number_generator.integers(low=1,high=6, size=indices_to_fill.size)\n",
    "\n",
    "print(sparse_vector)"
   ]
  },
  {
   "cell_type": "markdown",
   "metadata": {},
   "source": [
    "For our dense vector, we create a vector of the same size (1024) and fill it with random integers between 0 and 5."
   ]
  },
  {
   "cell_type": "code",
   "execution_count": null,
   "metadata": {},
   "outputs": [
    {
     "data": {
      "text/html": [
       "<pre style=\"white-space:pre;overflow-x:auto;line-height:normal;font-family:Menlo,'DejaVu Sans Mono',consolas,'Courier New',monospace\"><span style=\"font-weight: bold\">[</span><span style=\"color: #008080; text-decoration-color: #008080; font-weight: bold\">4</span> <span style=\"color: #008080; text-decoration-color: #008080; font-weight: bold\">3</span> <span style=\"color: #008080; text-decoration-color: #008080; font-weight: bold\">3</span> <span style=\"color: #808000; text-decoration-color: #808000\">...</span> <span style=\"color: #008080; text-decoration-color: #008080; font-weight: bold\">0</span> <span style=\"color: #008080; text-decoration-color: #008080; font-weight: bold\">4</span> <span style=\"color: #008080; text-decoration-color: #008080; font-weight: bold\">2</span><span style=\"font-weight: bold\">]</span>\n",
       "</pre>\n"
      ],
      "text/plain": [
       "\u001b[1m[\u001b[0m\u001b[1;36m4\u001b[0m \u001b[1;36m3\u001b[0m \u001b[1;36m3\u001b[0m \u001b[33m...\u001b[0m \u001b[1;36m0\u001b[0m \u001b[1;36m4\u001b[0m \u001b[1;36m2\u001b[0m\u001b[1m]\u001b[0m\n"
      ]
     },
     "metadata": {},
     "output_type": "display_data"
    }
   ],
   "source": [
    "dense_vector = random_number_generator.integers(low=0,high=6, size=vector_length, dtype=np.int8)\n",
    "\n",
    "print(dense_vector)"
   ]
  },
  {
   "cell_type": "markdown",
   "metadata": {},
   "source": [
    "To see the difference between sparse and dense vectors, we can turn each vector into a 32x32 grid and plot it with a colormap that represents each value between 0 and 5."
   ]
  },
  {
   "cell_type": "code",
   "execution_count": null,
   "metadata": {},
   "outputs": [
    {
     "data": {
      "image/png": "[encoded data removed]",
      "text/plain": [
       "<Figure size 1200x600 with 3 Axes>"
      ]
     },
     "metadata": {},
     "output_type": "display_data"
    }
   ],
   "source": [
    "import matplotlib.pyplot as plt\n",
    "import matplotlib.colors as mcolors\n",
    "\n",
    "def plot_vectors_side_by_side(sparse_vector, dense_vector):\n",
    "    size = int(np.ceil(np.sqrt(len(sparse_vector))))\n",
    "\n",
    "    sparse_grid = sparse_vector.reshape(size, size)\n",
    "    dense_grid = dense_vector.reshape(size, size)\n",
    "\n",
    "    fig, axes = plt.subplots(1, 2, figsize=(12, 6), gridspec_kw={'width_ratios': [1, 1]})\n",
    "\n",
    "    num_bins = 6\n",
    "    cmap = plt.cm.viridis\n",
    "    bounds = np.linspace(0, 5, num_bins, dtype=np.int8)\n",
    "    norm = mcolors.BoundaryNorm(bounds, cmap.N)\n",
    "\n",
    "    im1 = axes[0].imshow(sparse_grid, cmap=cmap, norm=norm)\n",
    "    axes[0].set_title(\"Sparse Vector\")\n",
    "    axes[0].axis(\"off\")\n",
    "\n",
    "    im2 = axes[1].imshow(dense_grid, cmap=cmap, norm=norm)\n",
    "    axes[1].set_title(\"Dense Vector\")\n",
    "    axes[1].axis(\"off\")\n",
    "\n",
    "\n",
    "    cbar_ax = fig.add_axes([0.92, 0.15, 0.02, 0.7])\n",
    "    cbar = fig.colorbar(im2, cax=cbar_ax)\n",
    "    cbar.set_label(\"Value\")\n",
    "    cbar.set_ticks(bounds)\n",
    "\n",
    "    plt.show()\n",
    "\n",
    "plot_vectors_side_by_side(sparse_vector, dense_vector)"
   ]
  },
  {
   "cell_type": "markdown",
   "metadata": {},
   "source": [
    "## Sparse and Dense Vector Representation\n",
    "\n",
    "Our sparse vector when initialized was sparse in the mathematical sense because it contained mostly zeros. However, it was in a Dense Representation because each value was allocated in memory. As the size of our vectors grow, it seems wasteful to allocate memory for a bunch of zeroes since they don't add much information. We can take advantage of the sparsity and transform it into a Sparse Representation. With a sparse representation, we'll still capture all of the non-zero values (which in our example are the only thing that are important), but we'll greatly reduce the memory footprint.  This mainly comes down to the datatype we're using to store our vectors.\n",
    "\n",
    "To go from sparse vector to sparse vector representation, we'll use a `dict` that has the index as the key and the value at that index for the actual value entry."
   ]
  },
  {
   "cell_type": "code",
   "execution_count": null,
   "metadata": {},
   "outputs": [
    {
     "data": {
      "text/html": [
       "<pre style=\"white-space:pre;overflow-x:auto;line-height:normal;font-family:Menlo,'DejaVu Sans Mono',consolas,'Courier New',monospace\"><span style=\"font-weight: bold\">{</span><span style=\"color: #008080; text-decoration-color: #008080; font-weight: bold\">87</span>: <span style=\"color: #008080; text-decoration-color: #008080; font-weight: bold\">3</span>, <span style=\"color: #008080; text-decoration-color: #008080; font-weight: bold\">786</span>: <span style=\"color: #008080; text-decoration-color: #008080; font-weight: bold\">3</span>, <span style=\"color: #008080; text-decoration-color: #008080; font-weight: bold\">90</span>: <span style=\"color: #008080; text-decoration-color: #008080; font-weight: bold\">2</span>, <span style=\"color: #008080; text-decoration-color: #008080; font-weight: bold\">665</span>: <span style=\"color: #008080; text-decoration-color: #008080; font-weight: bold\">1</span>, <span style=\"color: #008080; text-decoration-color: #008080; font-weight: bold\">446</span>: <span style=\"color: #008080; text-decoration-color: #008080; font-weight: bold\">5</span>, <span style=\"color: #008080; text-decoration-color: #008080; font-weight: bold\">441</span>: <span style=\"color: #008080; text-decoration-color: #008080; font-weight: bold\">4</span>, <span style=\"color: #008080; text-decoration-color: #008080; font-weight: bold\">712</span>: <span style=\"color: #008080; text-decoration-color: #008080; font-weight: bold\">4</span>, <span style=\"color: #008080; text-decoration-color: #008080; font-weight: bold\">96</span>: <span style=\"color: #008080; text-decoration-color: #008080; font-weight: bold\">3</span>, <span style=\"color: #008080; text-decoration-color: #008080; font-weight: bold\">206</span>: <span style=\"color: #008080; text-decoration-color: #008080; font-weight: bold\">5</span>, <span style=\"color: #008080; text-decoration-color: #008080; font-weight: bold\">875</span>: <span style=\"color: #008080; text-decoration-color: #008080; font-weight: bold\">3</span><span style=\"font-weight: bold\">}</span>\n",
       "</pre>\n"
      ],
      "text/plain": [
       "\u001b[1m{\u001b[0m\u001b[1;36m87\u001b[0m: \u001b[1;36m3\u001b[0m, \u001b[1;36m786\u001b[0m: \u001b[1;36m3\u001b[0m, \u001b[1;36m90\u001b[0m: \u001b[1;36m2\u001b[0m, \u001b[1;36m665\u001b[0m: \u001b[1;36m1\u001b[0m, \u001b[1;36m446\u001b[0m: \u001b[1;36m5\u001b[0m, \u001b[1;36m441\u001b[0m: \u001b[1;36m4\u001b[0m, \u001b[1;36m712\u001b[0m: \u001b[1;36m4\u001b[0m, \u001b[1;36m96\u001b[0m: \u001b[1;36m3\u001b[0m, \u001b[1;36m206\u001b[0m: \u001b[1;36m5\u001b[0m, \u001b[1;36m875\u001b[0m: \u001b[1;36m3\u001b[0m\u001b[1m}\u001b[0m\n"
      ]
     },
     "metadata": {},
     "output_type": "display_data"
    }
   ],
   "source": [
    "sparse_vector_dict = {i: sparse_vector[i] for i in indices_to_fill}\n",
    "print(sparse_vector_dict)"
   ]
  },
  {
   "cell_type": "markdown",
   "metadata": {},
   "source": [
    "Indexing into our array, we get exactly what we expect."
   ]
  },
  {
   "cell_type": "code",
   "execution_count": null,
   "metadata": {},
   "outputs": [
    {
     "data": {
      "text/html": [
       "<pre style=\"white-space:pre;overflow-x:auto;line-height:normal;font-family:Menlo,'DejaVu Sans Mono',consolas,'Courier New',monospace\">Value at index <span style=\"color: #008080; text-decoration-color: #008080; font-weight: bold\">87</span> in sparse vector: <span style=\"color: #008080; text-decoration-color: #008080; font-weight: bold\">3</span>\n",
       "</pre>\n"
      ],
      "text/plain": [
       "Value at index \u001b[1;36m87\u001b[0m in sparse vector: \u001b[1;36m3\u001b[0m\n"
      ]
     },
     "metadata": {},
     "output_type": "display_data"
    },
    {
     "data": {
      "text/html": [
       "<pre style=\"white-space:pre;overflow-x:auto;line-height:normal;font-family:Menlo,'DejaVu Sans Mono',consolas,'Courier New',monospace\">Value at index <span style=\"color: #008080; text-decoration-color: #008080; font-weight: bold\">875</span> in sparse vector: <span style=\"color: #008080; text-decoration-color: #008080; font-weight: bold\">3</span>\n",
       "</pre>\n"
      ],
      "text/plain": [
       "Value at index \u001b[1;36m875\u001b[0m in sparse vector: \u001b[1;36m3\u001b[0m\n"
      ]
     },
     "metadata": {},
     "output_type": "display_data"
    }
   ],
   "source": [
    "print(f\"Value at index {indices_to_fill[0]} in sparse vector: {sparse_vector[indices_to_fill[0]]}\")\n",
    "print(f\"Value at index {indices_to_fill[-1]} in sparse vector: {sparse_vector[indices_to_fill[-1]]}\")"
   ]
  },
  {
   "cell_type": "markdown",
   "metadata": {},
   "source": [
    "Because our vector length was 1024 and our sparse vector had 1% non-zero values, rounding down we expect 10 non-zero values.\n",
    "\n",
    "$$\n",
    "1024\\times0.01=10.24 \\\\\n",
    "\\lfloor 10.24 \\rfloor = 10\n",
    "$$"
   ]
  },
  {
   "cell_type": "code",
   "execution_count": null,
   "metadata": {},
   "outputs": [
    {
     "data": {
      "text/html": [
       "<pre style=\"white-space:pre;overflow-x:auto;line-height:normal;font-family:Menlo,'DejaVu Sans Mono',consolas,'Courier New',monospace\">Number of stored elements using sparse representation: <span style=\"color: #008080; text-decoration-color: #008080; font-weight: bold\">10</span>\n",
       "</pre>\n"
      ],
      "text/plain": [
       "Number of stored elements using sparse representation: \u001b[1;36m10\u001b[0m\n"
      ]
     },
     "metadata": {},
     "output_type": "display_data"
    }
   ],
   "source": [
    "print(f\"Number of stored elements using sparse representation: {len(sparse_vector_dict)}\")"
   ]
  },
  {
   "cell_type": "markdown",
   "metadata": {},
   "source": [
    "## Optimizing Memory with a Sparse Representation"
   ]
  },
  {
   "cell_type": "markdown",
   "metadata": {},
   "source": [
    "While not a perfect comparison, we can look at the memory that our sparse vector vs its sparse representation. During creation, we used numpy's `int8` datatype for our random integers. This is used to represent 8-bit signed integers ranging from -128 to 127. While we may expect the size of our `int8` to be 1 byte (8 bits), `int8`s are still python objects that contain additional metadata. This results in quite a bit more memory consumption than we may assume."
   ]
  },
  {
   "cell_type": "code",
   "execution_count": null,
   "metadata": {},
   "outputs": [],
   "source": [
    "import sys"
   ]
  },
  {
   "cell_type": "code",
   "execution_count": null,
   "metadata": {},
   "outputs": [
    {
     "data": {
      "text/html": [
       "<pre style=\"white-space:pre;overflow-x:auto;line-height:normal;font-family:Menlo,'DejaVu Sans Mono',consolas,'Courier New',monospace\">int8 value: <span style=\"color: #008080; text-decoration-color: #008080; font-weight: bold\">0</span>\n",
       "</pre>\n"
      ],
      "text/plain": [
       "int8 value: \u001b[1;36m0\u001b[0m\n"
      ]
     },
     "metadata": {},
     "output_type": "display_data"
    },
    {
     "data": {
      "text/html": [
       "<pre style=\"white-space:pre;overflow-x:auto;line-height:normal;font-family:Menlo,'DejaVu Sans Mono',consolas,'Courier New',monospace\">Memory usage for int8: <span style=\"color: #008080; text-decoration-color: #008080; font-weight: bold\">25</span> bytes\n",
       "</pre>\n"
      ],
      "text/plain": [
       "Memory usage for int8: \u001b[1;36m25\u001b[0m bytes\n"
      ]
     },
     "metadata": {},
     "output_type": "display_data"
    }
   ],
   "source": [
    "print(f\"int8 value: {sparse_vector[0]}\")\n",
    "print(f\"Memory usage for int8: {sys.getsizeof(sparse_vector[0])} bytes\")"
   ]
  },
  {
   "cell_type": "markdown",
   "metadata": {},
   "source": [
    "If we look at the memory usage of the entire sparse vector and its corresponding sparse vector representation, we see that we can represent the same information in a much smaller footprint. This is true even though both the `dict` and `np.array` have overhead as well."
   ]
  },
  {
   "cell_type": "code",
   "execution_count": null,
   "metadata": {},
   "outputs": [
    {
     "data": {
      "text/html": [
       "<pre style=\"white-space:pre;overflow-x:auto;line-height:normal;font-family:Menlo,'DejaVu Sans Mono',consolas,'Courier New',monospace\">Memory usage for sparse vector: <span style=\"color: #008080; text-decoration-color: #008080; font-weight: bold\">1136</span> bytes.\n",
       "</pre>\n"
      ],
      "text/plain": [
       "Memory usage for sparse vector: \u001b[1;36m1136\u001b[0m bytes.\n"
      ]
     },
     "metadata": {},
     "output_type": "display_data"
    },
    {
     "data": {
      "text/html": [
       "<pre style=\"white-space:pre;overflow-x:auto;line-height:normal;font-family:Menlo,'DejaVu Sans Mono',consolas,'Courier New',monospace\">Memory usage for sparse vector using sparse representation: <span style=\"color: #008080; text-decoration-color: #008080; font-weight: bold\">352</span> bytes.\n",
       "</pre>\n"
      ],
      "text/plain": [
       "Memory usage for sparse vector using sparse representation: \u001b[1;36m352\u001b[0m bytes.\n"
      ]
     },
     "metadata": {},
     "output_type": "display_data"
    }
   ],
   "source": [
    "sparse_vector_memory=sys.getsizeof(sparse_vector)\n",
    "sparse_representation_memory=sys.getsizeof(sparse_vector_dict)\n",
    "\n",
    "print(f\"Memory usage for sparse vector: {sparse_vector_memory} bytes.\")\n",
    "print(f\"Memory usage for sparse vector using sparse representation: {sparse_representation_memory} bytes.\")"
   ]
  },
  {
   "cell_type": "markdown",
   "metadata": {},
   "source": [
    "Looking at the ratio between the two values, we see a memory savings of over 3x, or roughly 70%."
   ]
  },
  {
   "cell_type": "code",
   "execution_count": null,
   "metadata": {},
   "outputs": [
    {
     "data": {
      "text/html": [
       "<pre style=\"white-space:pre;overflow-x:auto;line-height:normal;font-family:Menlo,'DejaVu Sans Mono',consolas,'Courier New',monospace\"><span style=\"color: #008080; text-decoration-color: #008080; font-weight: bold\">3.227272727272727</span>\n",
       "</pre>\n"
      ],
      "text/plain": [
       "\u001b[1;36m3.227272727272727\u001b[0m\n"
      ]
     },
     "metadata": {},
     "output_type": "display_data"
    }
   ],
   "source": [
    "print(sparse_vector_memory/sparse_representation_memory)"
   ]
  },
  {
   "cell_type": "markdown",
   "metadata": {},
   "source": [
    "$$\n",
    "\\frac{1136-352}{1136}\\times100=69.01\\%\n",
    "$$"
   ]
  },
  {
   "cell_type": "markdown",
   "metadata": {},
   "source": [
    "In practice, we probably wouldn't use a `dict` for our sparse representation. If we're sticking with python, we'd use something like [`scipy.sparse`](https://docs.scipy.org/doc/scipy/reference/sparse.html#sparse-arrays-scipy-sparse) and choose from one of its several [sparse formats](https://docs.scipy.org/doc/scipy/reference/sparse.html#usage-information).\n",
    "\n",
    "For our illustration, we'll use the [`lil_array`](https://docs.scipy.org/doc/scipy/reference/generated/scipy.sparse.lil_array.html#scipy.sparse.lil_array) format."
   ]
  },
  {
   "cell_type": "code",
   "execution_count": null,
   "metadata": {},
   "outputs": [],
   "source": [
    "from scipy.sparse import lil_array"
   ]
  },
  {
   "cell_type": "code",
   "execution_count": null,
   "metadata": {},
   "outputs": [
    {
     "data": {
      "text/html": [
       "<pre style=\"white-space:pre;overflow-x:auto;line-height:normal;font-family:Menlo,'DejaVu Sans Mono',consolas,'Courier New',monospace\">  <span style=\"font-weight: bold\">(</span><span style=\"color: #008080; text-decoration-color: #008080; font-weight: bold\">0</span>, <span style=\"color: #008080; text-decoration-color: #008080; font-weight: bold\">87</span><span style=\"font-weight: bold\">)</span>       <span style=\"color: #008080; text-decoration-color: #008080; font-weight: bold\">3</span>\n",
       "  <span style=\"font-weight: bold\">(</span><span style=\"color: #008080; text-decoration-color: #008080; font-weight: bold\">0</span>, <span style=\"color: #008080; text-decoration-color: #008080; font-weight: bold\">90</span><span style=\"font-weight: bold\">)</span>       <span style=\"color: #008080; text-decoration-color: #008080; font-weight: bold\">2</span>\n",
       "  <span style=\"font-weight: bold\">(</span><span style=\"color: #008080; text-decoration-color: #008080; font-weight: bold\">0</span>, <span style=\"color: #008080; text-decoration-color: #008080; font-weight: bold\">96</span><span style=\"font-weight: bold\">)</span>       <span style=\"color: #008080; text-decoration-color: #008080; font-weight: bold\">3</span>\n",
       "  <span style=\"font-weight: bold\">(</span><span style=\"color: #008080; text-decoration-color: #008080; font-weight: bold\">0</span>, <span style=\"color: #008080; text-decoration-color: #008080; font-weight: bold\">206</span><span style=\"font-weight: bold\">)</span>      <span style=\"color: #008080; text-decoration-color: #008080; font-weight: bold\">5</span>\n",
       "  <span style=\"font-weight: bold\">(</span><span style=\"color: #008080; text-decoration-color: #008080; font-weight: bold\">0</span>, <span style=\"color: #008080; text-decoration-color: #008080; font-weight: bold\">441</span><span style=\"font-weight: bold\">)</span>      <span style=\"color: #008080; text-decoration-color: #008080; font-weight: bold\">4</span>\n",
       "  <span style=\"font-weight: bold\">(</span><span style=\"color: #008080; text-decoration-color: #008080; font-weight: bold\">0</span>, <span style=\"color: #008080; text-decoration-color: #008080; font-weight: bold\">446</span><span style=\"font-weight: bold\">)</span>      <span style=\"color: #008080; text-decoration-color: #008080; font-weight: bold\">5</span>\n",
       "  <span style=\"font-weight: bold\">(</span><span style=\"color: #008080; text-decoration-color: #008080; font-weight: bold\">0</span>, <span style=\"color: #008080; text-decoration-color: #008080; font-weight: bold\">665</span><span style=\"font-weight: bold\">)</span>      <span style=\"color: #008080; text-decoration-color: #008080; font-weight: bold\">1</span>\n",
       "  <span style=\"font-weight: bold\">(</span><span style=\"color: #008080; text-decoration-color: #008080; font-weight: bold\">0</span>, <span style=\"color: #008080; text-decoration-color: #008080; font-weight: bold\">712</span><span style=\"font-weight: bold\">)</span>      <span style=\"color: #008080; text-decoration-color: #008080; font-weight: bold\">4</span>\n",
       "  <span style=\"font-weight: bold\">(</span><span style=\"color: #008080; text-decoration-color: #008080; font-weight: bold\">0</span>, <span style=\"color: #008080; text-decoration-color: #008080; font-weight: bold\">786</span><span style=\"font-weight: bold\">)</span>      <span style=\"color: #008080; text-decoration-color: #008080; font-weight: bold\">3</span>\n",
       "  <span style=\"font-weight: bold\">(</span><span style=\"color: #008080; text-decoration-color: #008080; font-weight: bold\">0</span>, <span style=\"color: #008080; text-decoration-color: #008080; font-weight: bold\">875</span><span style=\"font-weight: bold\">)</span>      <span style=\"color: #008080; text-decoration-color: #008080; font-weight: bold\">3</span>\n",
       "</pre>\n"
      ],
      "text/plain": [
       "  \u001b[1m(\u001b[0m\u001b[1;36m0\u001b[0m, \u001b[1;36m87\u001b[0m\u001b[1m)\u001b[0m       \u001b[1;36m3\u001b[0m\n",
       "  \u001b[1m(\u001b[0m\u001b[1;36m0\u001b[0m, \u001b[1;36m90\u001b[0m\u001b[1m)\u001b[0m       \u001b[1;36m2\u001b[0m\n",
       "  \u001b[1m(\u001b[0m\u001b[1;36m0\u001b[0m, \u001b[1;36m96\u001b[0m\u001b[1m)\u001b[0m       \u001b[1;36m3\u001b[0m\n",
       "  \u001b[1m(\u001b[0m\u001b[1;36m0\u001b[0m, \u001b[1;36m206\u001b[0m\u001b[1m)\u001b[0m      \u001b[1;36m5\u001b[0m\n",
       "  \u001b[1m(\u001b[0m\u001b[1;36m0\u001b[0m, \u001b[1;36m441\u001b[0m\u001b[1m)\u001b[0m      \u001b[1;36m4\u001b[0m\n",
       "  \u001b[1m(\u001b[0m\u001b[1;36m0\u001b[0m, \u001b[1;36m446\u001b[0m\u001b[1m)\u001b[0m      \u001b[1;36m5\u001b[0m\n",
       "  \u001b[1m(\u001b[0m\u001b[1;36m0\u001b[0m, \u001b[1;36m665\u001b[0m\u001b[1m)\u001b[0m      \u001b[1;36m1\u001b[0m\n",
       "  \u001b[1m(\u001b[0m\u001b[1;36m0\u001b[0m, \u001b[1;36m712\u001b[0m\u001b[1m)\u001b[0m      \u001b[1;36m4\u001b[0m\n",
       "  \u001b[1m(\u001b[0m\u001b[1;36m0\u001b[0m, \u001b[1;36m786\u001b[0m\u001b[1m)\u001b[0m      \u001b[1;36m3\u001b[0m\n",
       "  \u001b[1m(\u001b[0m\u001b[1;36m0\u001b[0m, \u001b[1;36m875\u001b[0m\u001b[1m)\u001b[0m      \u001b[1;36m3\u001b[0m\n"
      ]
     },
     "metadata": {},
     "output_type": "display_data"
    }
   ],
   "source": [
    "scipy_sparse_vector=lil_array(sparse_vector)\n",
    "print(scipy_sparse_vector)"
   ]
  },
  {
   "cell_type": "code",
   "execution_count": null,
   "metadata": {},
   "outputs": [
    {
     "data": {
      "text/html": [
       "<pre style=\"white-space:pre;overflow-x:auto;line-height:normal;font-family:Menlo,'DejaVu Sans Mono',consolas,'Courier New',monospace\">Memory usage for lil_array: <span style=\"color: #008080; text-decoration-color: #008080; font-weight: bold\">56</span> bytes\n",
       "</pre>\n"
      ],
      "text/plain": [
       "Memory usage for lil_array: \u001b[1;36m56\u001b[0m bytes\n"
      ]
     },
     "metadata": {},
     "output_type": "display_data"
    }
   ],
   "source": [
    "scipy_sparse_vector_memory=sys.getsizeof(scipy_sparse_vector)\n",
    "print(f\"Memory usage for lil_array: {scipy_sparse_vector_memory} bytes\")"
   ]
  },
  {
   "cell_type": "markdown",
   "metadata": {},
   "source": [
    "This is a much better memory footprint reducing our initial 1136 bytes to only 56. From our starting point, this is a reduction of over 20x, or roughly 95%."
   ]
  },
  {
   "cell_type": "code",
   "execution_count": null,
   "metadata": {},
   "outputs": [
    {
     "data": {
      "text/html": [
       "<pre style=\"white-space:pre;overflow-x:auto;line-height:normal;font-family:Menlo,'DejaVu Sans Mono',consolas,'Courier New',monospace\"><span style=\"color: #008080; text-decoration-color: #008080; font-weight: bold\">20.285714285714285</span>\n",
       "</pre>\n"
      ],
      "text/plain": [
       "\u001b[1;36m20.285714285714285\u001b[0m\n"
      ]
     },
     "metadata": {},
     "output_type": "display_data"
    }
   ],
   "source": [
    "print(sparse_vector_memory/scipy_sparse_vector_memory)"
   ]
  },
  {
   "cell_type": "markdown",
   "metadata": {},
   "source": [
    "$$\n",
    "\\frac{1136-56}{1136}\\times100=95.07\\%\n",
    "$$"
   ]
  }
 ],
 "metadata": {
  "kernelspec": {
   "display_name": "python3",
   "language": "python",
   "name": "python3"
  }
 },
 "nbformat": 4,
 "nbformat_minor": 2
}
